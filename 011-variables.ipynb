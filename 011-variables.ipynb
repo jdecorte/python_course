{
  "cells": [
    {
      "cell_type": "markdown",
      "metadata": {
        "id": "89nGynvGh_cd"
      },
      "source": [
        "# Introduction Python\n",
        "How important is Python: https://www.tiobe.com/tiobe-index/ \n",
        "\n",
        "Python notebook is example of \"Read–eval–print\" loop. "
      ]
    },
    {
      "cell_type": "markdown",
      "metadata": {
        "id": "xNt-KOLvh_cg"
      },
      "source": [
        "## Comments"
      ]
    },
    {
      "cell_type": "code",
      "execution_count": 1,
      "metadata": {
        "id": "phWYQ0IGh_cg",
        "outputId": "35e27c15-91df-455f-ff18-33fa1732b359"
      },
      "outputs": [
        {
          "data": {
            "text/plain": [
              "'Another way of adding comments is using triple quotation mark.\\nIn this case, the comment may cover \\nmultiple lines '"
            ]
          },
          "execution_count": 1,
          "metadata": {},
          "output_type": "execute_result"
        }
      ],
      "source": [
        "# 1 line comment in Python\n",
        "'''Another way of adding comments is using triple quotation mark.\n",
        "In this case, the comment may cover \n",
        "multiple lines '''"
      ]
    },
    {
      "cell_type": "markdown",
      "metadata": {
        "id": "oT8kw1pFh_ch"
      },
      "source": [
        "## Basic data types"
      ]
    },
    {
      "cell_type": "markdown",
      "metadata": {
        "id": "pryxljUoh_cg"
      },
      "source": [
        "Like most languages, Python has a number of basic types including integers, floats, booleans, and strings.\n",
        "These data types behave in ways that we are familiar with from other programming languages.\n",
        "You don't have to specify the type yourself. Python determines the type itself based on the content of the variable. "
      ]
    },
    {
      "cell_type": "markdown",
      "metadata": {
        "id": "c2eC14GZh_ci"
      },
      "source": [
        "### Numbers\n",
        "Integers and floats work as you would expect from other languages:"
      ]
    },
    {
      "cell_type": "code",
      "execution_count": 2,
      "metadata": {
        "id": "2B1NaNYYh_ci",
        "outputId": "c21c312d-8e03-4a49-c5bf-422d45cd6a50"
      },
      "outputs": [
        {
          "name": "stdout",
          "output_type": "stream",
          "text": [
            "<class 'int'>\n",
            "3\n",
            "4\n",
            "2\n",
            "6\n",
            "9\n",
            "4\n",
            "8\n",
            "<class 'float'>\n",
            "3.5 4.5 7.0 12.25\n"
          ]
        }
      ],
      "source": [
        "x = 3\n",
        "print(type(x)) # Prints \"<class 'int'>\"\n",
        "print(x)       # Prints \"3\"\n",
        "print(x + 1)   # Addition; prints \"4\"\n",
        "print(x - 1)   # Subtraction; prints \"2\"\n",
        "print(x * 2)   # Multiplication; prints \"6\"\n",
        "print(x ** 2)  # Exponentiation; prints \"9\"\n",
        "x += 1\n",
        "print(x)  # Prints \"4\"\n",
        "x *= 2\n",
        "print(x)  # Prints \"8\"\n",
        "y = 3.5\n",
        "print(type(y)) # Prints \"<class 'float'>\"\n",
        "print(y, y + 1, y * 2, y ** 2) # Prints \"2.5 3.5 5.0 6.25\""
      ]
    },
    {
      "cell_type": "markdown",
      "metadata": {
        "collapsed": true,
        "id": "DQiZkc_Ph_ci"
      },
      "source": [
        "Note that unlike many languages, Python does not have unary increment (x++) or decrement (x--) operators.\n",
        "Python also has built-in types for complex numbers"
      ]
    },
    {
      "cell_type": "markdown",
      "metadata": {
        "collapsed": true,
        "id": "lDElTzvQh_cj"
      },
      "source": [
        "#### Booleans\n",
        "Python implements all of the usual operators for Boolean logic, \n",
        "but uses English words (and, or, not) rather than symbols (&&, ||, etc.):"
      ]
    },
    {
      "cell_type": "code",
      "execution_count": 3,
      "metadata": {
        "id": "Y1YpOLvFh_cj",
        "outputId": "d5ae1559-27b1-4f68-b722-ccdf90afda34"
      },
      "outputs": [
        {
          "name": "stdout",
          "output_type": "stream",
          "text": [
            "<class 'bool'>\n",
            "False\n",
            "True\n",
            "False\n",
            "True\n"
          ]
        }
      ],
      "source": [
        "t = True\n",
        "f = False\n",
        "print(type(t)) # Prints \"<class 'bool'>\"\n",
        "print(t and f) # Logical AND; prints \"False\"\n",
        "print(t or f)  # Logical OR; prints \"True\"\n",
        "print(not t)   # Logical NOT; prints \"False\"\n",
        "print(t != f)  # Logical XOR; prints \"True\""
      ]
    },
    {
      "cell_type": "markdown",
      "metadata": {
        "collapsed": true,
        "id": "zr60Mkezh_ck"
      },
      "source": [
        "#### Strings\n",
        "Python has great support for strings:"
      ]
    },
    {
      "cell_type": "code",
      "execution_count": 4,
      "metadata": {
        "id": "uU_UfRWuh_ck",
        "outputId": "5812b005-ac4c-4b41-b275-ee58dc03eb71"
      },
      "outputs": [
        {
          "name": "stdout",
          "output_type": "stream",
          "text": [
            "hello\n",
            "5\n",
            "hello world\n",
            "hello world 12\n"
          ]
        }
      ],
      "source": [
        "hello = 'hello'    # String literals can use single quotes\n",
        "world = \"world\"    # or double quotes; it does not matter.\n",
        "print(hello)       # Prints \"hello\"\n",
        "print(len(hello))  # String length; prints \"5\"\n",
        "hw = hello + ' ' + world  # String concatenation\n",
        "print(hw)  # prints \"hello world\"\n",
        "hw12 = '%s %s %d' % (hello, world, 12)  # sprintf style string formatting\n",
        "print(hw12)  # prints \"hello world 12\"\n",
        "hw12 = '%s %s %d' % (hello, world, 12)  # sprintf style string formatting\n",
        "print(hw12)  # prints \"hello world 12\""
      ]
    },
    {
      "cell_type": "markdown",
      "metadata": {
        "collapsed": true,
        "id": "JZK8-F8nh_ck"
      },
      "source": [
        "String objects have a bunch of useful methods; for example:"
      ]
    },
    {
      "cell_type": "code",
      "execution_count": 5,
      "metadata": {
        "id": "TWNAXid8h_ck"
      },
      "outputs": [
        {
          "name": "stdout",
          "output_type": "stream",
          "text": [
            "Hello\n",
            "HELLO\n",
            "  hello\n",
            " hello \n",
            "he(ell)(ell)o\n",
            "world\n"
          ]
        }
      ],
      "source": [
        "s = \"hello\"\n",
        "print(s.capitalize())  # Capitalize a string; prints \"Hello\"\n",
        "print(s.upper())       # Convert a string to uppercase; prints \"HELLO\"\n",
        "print(s.rjust(7))      # Right-justify a string, padding with spaces; prints \"  hello\"\n",
        "print(s.center(7))     # Center a string, padding with spaces; prints \" hello \"\n",
        "print(s.replace('l', '(ell)'))  # Replace all instances of one substring with another;\n",
        "                                # prints \"he(ell)(ell)o\"\n",
        "print('  world '.strip())  # Strip leading and trailing whitespace; prints \"world\""
      ]
    }
  ],
  "metadata": {
    "colab": {
      "name": "Python_Introduction.ipynb",
      "provenance": []
    },
    "kernelspec": {
      "display_name": ".venv",
      "language": "python",
      "name": "python3"
    },
    "language_info": {
      "codemirror_mode": {
        "name": "ipython",
        "version": 3
      },
      "file_extension": ".py",
      "mimetype": "text/x-python",
      "name": "python",
      "nbconvert_exporter": "python",
      "pygments_lexer": "ipython3",
      "version": "3.12.8"
    }
  },
  "nbformat": 4,
  "nbformat_minor": 0
}
