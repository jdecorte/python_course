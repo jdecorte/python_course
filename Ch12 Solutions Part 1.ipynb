{
 "cells": [
  {
   "cell_type": "markdown",
   "metadata": {},
   "source": [
    "#### Exercise 4.1\n",
    "The Euclidean distance between two points $(a, b)$ and $(c, d)$ is defined as: $\\sqrt{(a - c)^2 +(b - d)^2}$.\n",
    "     Write a Python code that reads $a,b,c,d$ from the user,\n",
    "     calculates the Euclidean distance, and prints the result."
   ]
  },
  {
   "cell_type": "code",
   "execution_count": null,
   "metadata": {},
   "outputs": [
    {
     "name": "stdout",
     "output_type": "stream",
     "text": [
      "The distance between (5.0, 3.0) and (2.0, 10.0) is 7.615773105863909\n"
     ]
    }
   ],
   "source": [
    "a = float(input(\"Enter a number:\"))\n",
    "b = float(input(\"Enter another number:\"))\n",
    "c = float(input(\"Enter a third number:\"))\n",
    "d = float(input(\"Enter a fourth number:\"))\n",
    "distance = ((a - c) ** 2 + (b - d) ** 2) ** 0.5\n",
    "print(f\"The distance between ({a}, {b}) and ({c}, {d}) is {distance}\")\n"
   ]
  },
  {
   "cell_type": "markdown",
   "metadata": {},
   "source": [
    "#### Exercise 4.2\n",
    "To convert Celsius to Fahrenheit, we multiply Celsius by $9/5$ \n",
    "     and then add 32.  Write a Python code that reads a Celsius value and\n",
    "     prints the equivalent Fahrenheit. \n"
   ]
  },
  {
   "cell_type": "code",
   "execution_count": null,
   "metadata": {},
   "outputs": [
    {
     "name": "stdout",
     "output_type": "stream",
     "text": [
      "10.0°C is 50.0°F\n"
     ]
    }
   ],
   "source": [
    "c = float(input(\"Enter a celsius:\"))\n",
    "f = c * 9 / 5 + 32\n",
    "print(f\"{c}°C is {f}°F\")"
   ]
  },
  {
   "cell_type": "markdown",
   "metadata": {},
   "source": [
    "The formula for compound interest is the following:\n",
    "  \n",
    "$$\n",
    "A = P\\left(1 + \\frac{r}{n}\\right)^{n t}\n",
    "$$\n",
    "\n",
    "where:   \n",
    "- $A$ = final amount   \n",
    "- $P$ = initial principal value   \n",
    "- $r$ = annual interest rate   \n",
    "- $n$ = the number of times interest is applied per year   \n",
    "- $t$ = the number of years\n",
    "\n",
    "Write a Python code that reads $P,r,n,t$ from the user\n",
    "and prints $A$ as the result. \n"
   ]
  },
  {
   "cell_type": "code",
   "execution_count": null,
   "metadata": {},
   "outputs": [
    {
     "name": "stdout",
     "output_type": "stream",
     "text": [
      "The final amount after 10 years is 1343.9163793441223\n"
     ]
    }
   ],
   "source": [
    "P = float(input(\"initial principal value:\"))\n",
    "r = float(input(\"annual nominal interest rate:\"))\n",
    "n = float(input(\"number of times that interest is applied per year:\"))\n",
    "t = int(input(\"number of years:\"))\n",
    "\n",
    "A = P * (1 + r / n) ** (n * t)\n",
    "print(f\"The final amount after {t} years is {A}\")\n"
   ]
  },
  {
   "cell_type": "markdown",
   "metadata": {},
   "source": [
    "#### Exercise 4.3\n",
    "A sphere of radius $R_1$ is made of plastic. There is a sphere-shaped hole of radius $R_2$ $(R_2<R_1)$ in the plastic sphere.    \n",
    "     Write a Python code that reads  $R_1, R_2$ from the user,\n",
    "     and prints the volume of plastic used. \n"
   ]
  },
  {
   "cell_type": "code",
   "execution_count": null,
   "metadata": {},
   "outputs": [
    {
     "name": "stdout",
     "output_type": "stream",
     "text": [
      "The volume of sphere is 3665.1914291880917\n"
     ]
    }
   ],
   "source": [
    "from math import pi\n",
    "r1 = float(input(\"Enter the first radius:\"))\n",
    "r2 = float(input(\"Enter the second radius:\"))\n",
    "volume = 4 / 3 * pi * (r1 ** 3 - r2 ** 3)\n",
    "print(f\"The volume of sphere is {volume}\")"
   ]
  }
 ],
 "metadata": {
  "kernelspec": {
   "display_name": ".venv",
   "language": "python",
   "name": "python3"
  },
  "language_info": {
   "codemirror_mode": {
    "name": "ipython",
    "version": 3
   },
   "file_extension": ".py",
   "mimetype": "text/x-python",
   "name": "python",
   "nbconvert_exporter": "python",
   "pygments_lexer": "ipython3",
   "version": "3.12.8"
  }
 },
 "nbformat": 4,
 "nbformat_minor": 2
}
