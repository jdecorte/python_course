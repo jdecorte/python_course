{
 "cells": [
  {
   "cell_type": "markdown",
   "metadata": {},
   "source": [
    "#### Exercise 5.1\n",
    "Implement the wile statements examples for average and standard deviation using a for statement. "
   ]
  },
  {
   "cell_type": "code",
   "execution_count": 2,
   "metadata": {},
   "outputs": [
    {
     "name": "stdout",
     "output_type": "stream",
     "text": [
      "1215.25\n"
     ]
    }
   ],
   "source": [
    "L = [10 , -4, 4873 , -18]\n",
    "total = 0\n",
    "for x in L:\n",
    "    total = total + x\n",
    "avg = total / len (L)\n",
    "print (avg )"
   ]
  },
  {
   "cell_type": "code",
   "execution_count": null,
   "metadata": {},
   "outputs": [
    {
     "name": "stdout",
     "output_type": "stream",
     "text": [
      " Avg & Std of the list are :  25.0 11.180339887498949\n"
     ]
    }
   ],
   "source": [
    "L = [10 , 20, 30, 40]\n",
    "N = len (L)\n",
    "\n",
    "total = 0\n",
    "for x in L:\n",
    "    total = total + x\n",
    "avg = total / N\n",
    "\n",
    "total = 0\n",
    "for x in L:\n",
    "    total = total + (x - avg) ** 2\n",
    "12\n",
    "std = ( total / N) ** 0.5\n",
    "print (\"Avg & Std of the list are :\", avg , std )"
   ]
  },
  {
   "cell_type": "markdown",
   "metadata": {},
   "source": [
    "#### Exercise 5.2\n",
    "\n",
    "Implement the following for statement examples using a while statement. \n",
    "\n",
    "   a. Words with vowels and consonants.\n",
    "\n",
    "   b. Run-length encoding."
   ]
  },
  {
   "cell_type": "code",
   "execution_count": null,
   "metadata": {},
   "outputs": [
    {
     "name": "stdout",
     "output_type": "stream",
     "text": [
      " Starting with consonant : [' lorem ', ' ipsum ', ' dolor ', ' sit ', ' consectetur ', ' adipiscing ', ' elit ', ' sed ', 'do', ' eiusmod ', ' tempor ', ' incididunt ', ' labore ', ' dolore ', 'magna ', ' aliqua ']\n",
      " Starting with vowel : ['amet ,', 'ut', 'et']\n"
     ]
    }
   ],
   "source": [
    "#   a. Words with vowels and consonants.\n",
    "mixed = [\"lorem\",\"ipsum\",\"dolor\",\"sit\",\"amet ,\",\"consectetur\",\"adipiscing\",\"elit\",\\\n",
    "        \"sed\",\"do\",\"eiusmod\",\"tempor\",\"incididunt\",\"ut\",\"labore\",\"et\",\"dolore\",\"magna\",\"aliqua\"]\n",
    "vowels = []\n",
    "consonants = []\n",
    "i = 0\n",
    "N = len ( mixed )\n",
    "while i<N:\n",
    "    word = mixed [i]\n",
    "    i += 1\n",
    "    if word [0] in ['a','e','i','o','u']: \n",
    "        vowels += [ word ]\n",
    "    else: \n",
    "        consonants += [ word ]\n",
    "print (\"Starting with consonant :\", consonants )\n",
    "print (\"Starting with vowel :\", vowels )"
   ]
  },
  {
   "cell_type": "code",
   "execution_count": null,
   "metadata": {},
   "outputs": [
    {
     "name": "stdout",
     "output_type": "stream",
     "text": [
      "[' ', ['a', 6], ['x', 4], 'm', ['y', 3], ['a', 4], ['s', 9], ['t', 3], 'u', 'i', ['v', 4], ' ']\n"
     ]
    }
   ],
   "source": [
    "# b. Run-length encoding.\n",
    "text =\"aaaaaaxxxxmyyyaaaassssssssstttuivvvv\"\n",
    "code_list = []\n",
    "last_character = text [0]\n",
    "count = 1\n",
    "# Go over each character except for the first\n",
    "N = len ( text [1:])\n",
    "i = 0\n",
    "while i<N:\n",
    "    curr_character = text [1:][ i]\n",
    "    i += 1\n",
    "    # If curr_character is equal to last_character , we found a duplicate\n",
    "    if last_character == curr_character:\n",
    "        count += 1\n",
    "    else:\n",
    "    # We have finished a sequence of same characters : Save the count and\n",
    "    # reinitialize last_character and count accordingly\n",
    "        code_list += [ last_character if count ==1 else [ last_character , count ]]\n",
    "        count = 1\n",
    "        last_character = curr_character\n",
    "# handle the last_character here :\n",
    "code_list += [ last_character if count ==1 else [ last_character , count ]]\n",
    "print ( code_list )\n"
   ]
  },
  {
   "cell_type": "markdown",
   "metadata": {},
   "source": [
    "#### Exercise 5.3\n",
    "\n",
    "Write a Python code that removes duplicate items in a list. For example, `[12, 3, 4, 12]` should be changed to `[12, 3, 4]`. The order of the items should not change."
   ]
  },
  {
   "cell_type": "code",
   "execution_count": null,
   "metadata": {},
   "outputs": [
    {
     "name": "stdout",
     "output_type": "stream",
     "text": [
      "[' ', 'a', 'd', 'r', 'e', 's']\n"
     ]
    }
   ],
   "source": [
    "L = list (\"aaaaaaadadreeseaess\")\n",
    "N = len (L)\n",
    "i = 0\n",
    "while i<N:\n",
    "    j = i+1\n",
    "    while j<N:\n",
    "        if L[i]==L[j]:\n",
    "            del L[j]\n",
    "            N -= 1\n",
    "        else : \n",
    "            j += 1\n",
    "    i += 1\n",
    "\n",
    "print (L)"
   ]
  },
  {
   "cell_type": "markdown",
   "metadata": {},
   "source": [
    "#### Exercise 5.4\n",
    "\n",
    "Write a program that takes a list of strings and prints the frequency of each word in the list.\n",
    "     Hint: Make use of a dictionary.\n",
    "     Example: For the following list,\n",
    "\n",
    "```python\n",
    "[\"apple\",\"banana\",\"apple\",\"cherry\",\"orange\",\"banana\", \n",
    "\"cherry\",\"elderberry\",\"orange\",\"fig\",\"fig\",\"fig\"]\n",
    "```\n",
    "\n",
    "Your code should print the following: \n",
    "\n",
    "```python\n",
    "Frequency of words:\n",
    "apple: 2\n",
    "banana: 2\n",
    "cherry: 2\n",
    "orange: 2\n",
    "elderberry: 1\n",
    "fig: 3\n",
    "```"
   ]
  },
  {
   "cell_type": "code",
   "execution_count": null,
   "metadata": {},
   "outputs": [
    {
     "name": "stdout",
     "output_type": "stream",
     "text": [
      "Frequency of words :\n",
      "apple: 2\n",
      "banana: 2\n",
      "cherry: 2\n",
      "orange: 2\n",
      "elderberry: 1\n",
      "fig: 3\n"
     ]
    }
   ],
   "source": [
    "words = [\"apple\",\"banana\",\"apple\",\"cherry\",\"orange\",\"banana\",\\\n",
    "        \"cherry\",\"elderberry\",\"orange\",\"fig\",\"fig\",\"fig\"]\n",
    "\n",
    "frequency = {}\n",
    "for word in words :\n",
    "    if word in frequency :\n",
    "        frequency [ word ] += 1\n",
    "    else :\n",
    "        frequency [ word ] = 1\n",
    "\n",
    "print (\"Frequency of words :\")\n",
    "for word , count in frequency.items (): # the way to access all\n",
    "    print (f\"{ word }: { count }\") # the dictionary element"
   ]
  },
  {
   "cell_type": "markdown",
   "metadata": {},
   "source": [
    "#### Exercise 5.5\n",
    "\n",
    "You are given a dictionary of  food and  price information, stored under a variable  Menu. Here is an example: \n",
    "\n",
    "```python\n",
    "    Menu = {\"soup\":22.5,\"fries\":15.0,\"coke\":10.0, \"beer\":30.0,  \n",
    "           \"bread\":5.0,\"hamburger\":65.0,\"scrambled egg\":27.5, \n",
    "           \"coffee\":18.0,\"pastry\":23.5,\"large pizza\":70.0,\n",
    "           \"medium pizza\":40.0,\"small pizza\":25.0,\"salad\":7.75}\n",
    "    ```\n",
    "    \n",
    "    Write a program that takes a list of items (from the menu), i.e., the bill as:\n",
    "\n",
    "    ```python\n",
    "    [\"hamburger\",\"fries\",\"beer\",\"medium pizza\",\"beer\"]\n",
    "    ```\n",
    "\n",
    "    and then, prints the sum as follows:\n",
    "\n",
    "    ```python\n",
    "    180.0\n",
    "    ```\n",
    "\n",
    "    Now, modify your program so that the same bill above can be entered as:\n",
    "\n",
    "    ```python\n",
    "    [\"hamburger\",\"fries\", (2,\"beer\"),\"medium pizza\"]\n",
    "    ```"
   ]
  },
  {
   "cell_type": "code",
   "execution_count": null,
   "metadata": {},
   "outputs": [
    {
     "name": "stdout",
     "output_type": "stream",
     "text": [
      "180.0\n"
     ]
    }
   ],
   "source": [
    "Menu = {\"soup\": 22.5 ,\"fries\": 15.0 ,\"cok\": 10.0 ,\"beer\": 30.0 ,\\\n",
    "        \"bread\": 5.0 ,\"hamburger\": 65.0 ,\"scrambled egg\": 27.5 ,\\\n",
    "       \"coffee\": 18.0 ,\"pastry\": 23.5 ,\"large pizza\": 70.0 ,\\\n",
    "       \"medium pizza\": 40.0 ,\"small pizza\": 25.0 ,\"salad\": 7.75}\n",
    "\n",
    "bill = [\"hamburger\",\"fries\",\"beer\",\"medium pizza\",\"beer\"]\n",
    "\n",
    "total_price = sum ( Menu [ item ] for item in bill )\n",
    "print ( total_price )"
   ]
  },
  {
   "cell_type": "code",
   "execution_count": null,
   "metadata": {},
   "outputs": [
    {
     "name": "stdout",
     "output_type": "stream",
     "text": [
      "210.0\n"
     ]
    }
   ],
   "source": [
    "Menu = {\"soup\": 22.5 ,\"fries\": 15.0 ,\"cok\": 10.0 ,\"beer\": 30.0 ,\\\n",
    "        \"bread\": 5.0 ,\"hamburger\": 65.0 ,\"scrambled egg\": 27.5 ,\\\n",
    "       \"coffee\": 18.0 ,\"pastry\": 23.5 ,\"large pizza\": 70.0 ,\\\n",
    "       \"medium pizza\": 40.0 ,\"small pizza\": 25.0 ,\"salad\": 7.75}\n",
    "\n",
    "bill = [\"hamburger\",\"fries\", (2,\"beer\"),\"medium pizza\",\"beer\"]\n",
    "\n",
    "\n",
    "total_price = sum ([ item [0]* Menu [item [1]] if type ( item ) == tuple else Menu [ item ] for item in bill ])\n",
    "print ( total_price )"
   ]
  },
  {
   "cell_type": "markdown",
   "metadata": {},
   "source": [
    "#### Exercise 5.6\n",
    "\n",
    "Write a rectangle that asks the user width and height and that draws a rectangle of 'x':\n",
    "\n",
    "```python\n",
    "xxxxxxxxxxxx  \n",
    "x          x  \n",
    "x          x  \n",
    "x          x  \n",
    "xxxxxxxxxxxx  \n",
    "```\n",
    "\n",
    "Check that only positive value (> 0) can be entered: refuse incorrect inputs and give the user the opportunity to reenter. \n",
    "\n",
    "Tip: you can print a character without a newline with \n",
    "```python\n",
    "print(\"x\",end=\"\")\n",
    "```"
   ]
  },
  {
   "cell_type": "code",
   "execution_count": 1,
   "metadata": {},
   "outputs": [
    {
     "name": "stdout",
     "output_type": "stream",
     "text": [
      "Printing a 5x3 rectangle:\n",
      "*****\n",
      "*   *\n",
      "*****\n"
     ]
    }
   ],
   "source": [
    "width = -1\n",
    "while width < 0:\n",
    "    width = int(input(\"Enter the width as a positive integer:\"))\n",
    "    if width < 0:\n",
    "        print (\"Please enter a positive integer\")\n",
    "\n",
    "height = -1\n",
    "while height < 0:\n",
    "    height = int(input(\"Enter the heigth as a positive integer:\"))\n",
    "    if height < 0:\n",
    "        print (\"Please enter a positive integer\")\n",
    "\n",
    "print(f\"Printing a {width}x{height} rectangle:\")\n",
    "\n",
    "for i in range ( height ):\n",
    "    for j in range(width):\n",
    "        if j == 0 or j == width - 1 or i == 0 or i == height - 1:\n",
    "            print (\"*\", end=\"\")\n",
    "        else:\n",
    "            print (\" \", end=\"\")\n",
    "    print ()\n"
   ]
  },
  {
   "cell_type": "code",
   "execution_count": 2,
   "metadata": {},
   "outputs": [
    {
     "name": "stdout",
     "output_type": "stream",
     "text": [
      "Printing a 5x3 rectangle:\n",
      "*****\n",
      "*   *\n",
      "*****\n"
     ]
    }
   ],
   "source": [
    "def get_side(name):\n",
    "    side = -1\n",
    "    while side < 0:\n",
    "        side = int(input(f\"Enter the {name} as a positive integer:\"))\n",
    "        if side < 0:\n",
    "            print (\"Please enter a positive integer\")\n",
    "    return side\n",
    "\n",
    "width = get_side(\"width\")\n",
    "height = get_side(\"height\")\n",
    "print(f\"Printing a {width}x{height} rectangle:\")\n",
    "for i in range ( height ):\n",
    "    for j in range(width):\n",
    "        if j == 0 or j == width - 1 or i == 0 or i == height - 1:\n",
    "            print (\"*\", end=\"\")\n",
    "        else:\n",
    "            print (\" \", end=\"\")\n",
    "    print ()"
   ]
  },
  {
   "cell_type": "markdown",
   "metadata": {},
   "source": [
    "#### Exercise 7.1\n",
    " \n",
    "Define a class `Vec3d` to represent 3 dimensional vectors. `Vec3d` should encapsulate 3 float values, `x`, `y`, and `z`. You should implement the following methods for your class:\n",
    "  * `__init__(self, x,y,z)`: The constructor, which gets 3 values and construct a 3D vector. \n",
    "  * `__str__(self)`: Returns the string representation of vector as `(x, y, z)` so that `print()` and `str()` functions can display the vector in        a human-readable form.\n",
    "  * `add(self, b)`: Constructs and returns a new `Vec3d` object which is the addition of the current object and `b` which is another `Vec3d`           object. Vector addition is defined as the addition of all corresponding dimensions. \n",
    "  * `len(self)`: Returns length (norm) of the vector as a scalar: $\\sqrt{x^2+y^2+z^2}$.\n",
    "  * `norm(self)`: Construct and return a vector in the same direction but the length is `1.0`. Simply divide all dimensions by the length         of the vector. \n",
    "\n",
    "  The test run and its output would look as follows:\n",
    "  ```python\n",
    "  a = Vec3d(1,0,0)\n",
    "  b = Vec3d(0,1,0)\n",
    "  c = Vec3d(0.7,0.7,0.7)\n",
    "  print(a.add(b))\n",
    "  print(a.add(c))\n",
    "  print(c.len())\n",
    "  (1 , 1, 0) \n",
    "  (1.7 , 0.7, 0.7) \n",
    "  1.212435565298214\n",
    "  ```"
   ]
  },
  {
   "cell_type": "code",
   "execution_count": 3,
   "metadata": {},
   "outputs": [
    {
     "name": "stdout",
     "output_type": "stream",
     "text": [
      "(1 , 1, 0) \n",
      "(1.7 , 0.7, 0.7) \n",
      "1.212435565298214\n"
     ]
    }
   ],
   "source": [
    "class Vec3d :\n",
    "    def __init__ (self , x, y, z): # constructor\n",
    "        self .x, self .y, self .z = x, y, z # initialize members from parameters\n",
    "    def __str__ ( self ):\n",
    "        return '({} , {}, {}) '. format ( self .x, self .y, self .z)\n",
    "    def add (self , b): # construct and return in a single line\n",
    "        return Vec3d ( self .x + b.x, self .y + b.y, self .z + b.z)\n",
    "    def len(self):\n",
    "        return ( self .x ** 2 + self .y ** 2 + self .z ** 2) ** 0.5\n",
    "\n",
    "def main():\n",
    "  a = Vec3d(1,0,0)\n",
    "  b = Vec3d(0,1,0)\n",
    "  c = Vec3d(0.7,0.7,0.7)\n",
    "  print(a.add(b))\n",
    "  print(a.add(c))\n",
    "  print(c.len())   \n",
    "\n",
    "if __name__ == \"__main__\":\n",
    "    main() \n"
   ]
  },
  {
   "cell_type": "markdown",
   "metadata": {},
   "source": [
    "#### Exercise 7.2\n",
    "\n",
    "Modify the Vec3d class and replace `add`with the special function `__add__()`. This change will enable the `+` operator to be used on Vec3d objects. After this change, the  test run should look like this:\n",
    "\n",
    "```python\n",
    "a = Vec3d(1,0,0)\n",
    "b = Vec3d(0,1,0)\n",
    "c = Vec3d(0.7,0.7,0.7)\n",
    "print(a + b)\n",
    "print(a + c)\n",
    "print(c.len(), c.norm())\n",
    "```\n"
   ]
  },
  {
   "cell_type": "code",
   "execution_count": null,
   "metadata": {},
   "outputs": [
    {
     "name": "stdout",
     "output_type": "stream",
     "text": [
      "(1 , 1, 0) \n",
      "(1.7 , 0.7, 0.7) \n",
      "1.212435565298214\n"
     ]
    }
   ],
   "source": [
    "class Vec3d :\n",
    "    def __init__ (self , x, y, z): # constructor\n",
    "        self .x, self .y, self .z = x, y, z # initialize members from parameters\n",
    "    def __str__ ( self ):\n",
    "        return '({} , {}, {}) '. format ( self .x, self .y, self .z)\n",
    "    def __add__ (self , b): # construct and return in a single line\n",
    "        return Vec3d (self.x + b.x, self.y + b.y, self.z + b.z)\n",
    "    def len(self):\n",
    "        return ( self.x ** 2 + self.y ** 2 + self.z ** 2) ** 0.5\n",
    "\n",
    "def main():\n",
    "  a = Vec3d(1,0,0)\n",
    "  b = Vec3d(0,1,0)\n",
    "  c = Vec3d(0.7,0.7,0.7)\n",
    "  print(a+b)\n",
    "  print(a+c)\n",
    "  print(c.len())   \n",
    "\n",
    "if __name__ == \"__main__\":\n",
    "    main() "
   ]
  },
  {
   "cell_type": "markdown",
   "metadata": {},
   "source": [
    "#### Exercise 7.3\n",
    "\n",
    "Op een PCB gebruikt een bedrijf een schakeling van vier condensatoren in serie. De condensatoren op eenzelfde PCB moeten tot hetzelfde lot behoren. \n",
    "\n",
    "Zoals gekend kan de vervangcapaciteit berekend worden als: \n",
    "\n",
    "$$\n",
    "\\frac{1}{C_t} = \\frac{1}{C_1} + \\frac{1}{C_2} + \\frac{1}{C_3} + \\frac{1}{C_4}\n",
    "$$\n",
    "\n",
    "Ontwerp een object georiënteerd systeem dat van elke condensator de capaciteit en het lot bijhoudt en waarbij een PCB voorgesteld wordt als een lijst van condensatoren. Bij het samenstellen van de PCB wordt een exception gestuurd als een condensator wordt toegevoegd uit een ander lot als de reeds aanwezige condensatoren. Vang deze exception op in het main-programma."
   ]
  },
  {
   "cell_type": "code",
   "execution_count": 2,
   "metadata": {},
   "outputs": [
    {
     "name": "stdout",
     "output_type": "stream",
     "text": [
      "capaciteit = 10 , lot = 1\n",
      "capaciteit = 20 , lot = 1\n",
      "capaciteit = 30 , lot = 1\n",
      "capaciteit = 40 , lot = 1\n",
      "De vervangcapaciteit bedraagt: 4.8\n"
     ]
    }
   ],
   "source": [
    "class Condensator:\n",
    "    def __init__(self,capaciteit,lot):\n",
    "        self.capaciteit = capaciteit\n",
    "        self.lot = lot\n",
    "    def __str__(self):\n",
    "        print(f'capaciteit = {self.capaciteit} , lot = {self.lot}')\n",
    "    def __str__(self):\n",
    "        return 'capaciteit = {} , lot = {}'.format(self.capaciteit,self.lot)\n",
    "\n",
    "class PCB:\n",
    "    def __init__(self):\n",
    "        self.condensators = []\n",
    "        self.lot = None\n",
    "\n",
    "    def add_condensator(self,condensator):\n",
    "        if self.lot == None:\n",
    "            self.lot = condensator.lot\n",
    "        elif self.lot != condensator.lot:\n",
    "            raise ValueError(\"Condensators komen uit verschillende loten\")\n",
    "\n",
    "        self.condensators.append(condensator)\n",
    "\n",
    "    def vervang_capaciteit(self):\n",
    "        for c in self.condensators:\n",
    "            print(c.__str__())\n",
    "        cap = 1/sum(1/c.capaciteit for c in self.condensators)\n",
    "        return cap\n",
    "    \n",
    "def main():\n",
    "    c1 = Condensator(10,1)\n",
    "    c2 = Condensator(20,1)\n",
    "    c3 = Condensator(30,1)\n",
    "    c4 = Condensator(40,1)\n",
    "\n",
    "    pcb = PCB()\n",
    "    try:\n",
    "        pcb.add_condensator(c1)\n",
    "        pcb.add_condensator(c2)\n",
    "        pcb.add_condensator(c3) \n",
    "        pcb.add_condensator(c4)\n",
    "      \n",
    "        print(f'De vervangcapaciteit bedraagt: {pcb.vervang_capaciteit()}')\n",
    "    except ValueError as e:\n",
    "        print(e)\n",
    "\n",
    "if __name__ == \"__main__\":\n",
    "    main()"
   ]
  }
 ],
 "metadata": {
  "kernelspec": {
   "display_name": ".venv",
   "language": "python",
   "name": "python3"
  },
  "language_info": {
   "codemirror_mode": {
    "name": "ipython",
    "version": 3
   },
   "file_extension": ".py",
   "mimetype": "text/x-python",
   "name": "python",
   "nbconvert_exporter": "python",
   "pygments_lexer": "ipython3",
   "version": "3.12.8"
  }
 },
 "nbformat": 4,
 "nbformat_minor": 2
}
