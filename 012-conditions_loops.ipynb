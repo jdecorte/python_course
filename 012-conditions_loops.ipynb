{
  "cells": [
    {
      "cell_type": "markdown",
      "metadata": {},
      "source": [
        "### Conditions"
      ]
    },
    {
      "cell_type": "markdown",
      "metadata": {},
      "source": [
        "Python relies on indentation (whitespace at the beginning of a line) \n",
        "to define scope in the code. Other programming languages often use curly-brackets for this purpose.\n",
        "\n",
        "De syntax of the if statement is as follows:\n",
        "if <boolean expression>:\n",
        "    <actions>\n",
        "else:\n",
        "    <actions>\n",
        "\n",
        "Note the colon (:) after the boolean expression, and the fact that <actions> is indented."
      ]
    },
    {
      "cell_type": "code",
      "execution_count": null,
      "metadata": {},
      "outputs": [
        {
          "name": "stdout",
          "output_type": "stream",
          "text": [
            "This will be printed if x < 10\n",
            "This will also be printed if x < 10\n",
            "This will be printed anyway\n"
          ]
        }
      ],
      "source": [
        "x = 7\n",
        "if x < 10:\n",
        "    print(\"This will be printed if x < 10\")\n",
        "    print(\"This will also be printed if x < 10\")\n",
        "elif x < 20:\n",
        "    print(\"This will be printed if x >= 10 and x < 20\")\n",
        "    print(\"This will also be printed if  x >= 10 and x < 20\")\n",
        "elif x < 50:\n",
        "    print(\"This will be printed if x >= 20 and x < 50\")\n",
        "    print(\"This will also be printed if  x >= 20 and x < 50\")    \n",
        "else:\n",
        "    print(\"This will be printed if x >= 50\")\n",
        "    print(\"This will also be printed if  x >= 50\")    \n",
        "print(\"This will be printed anyway\")\n",
        "\n",
        "# \"This will be printed if x < 10\"\n",
        "# \"This will also be printed if x < 10\"\n",
        "# \"This will be printed anyway\""
      ]
    },
    {
      "cell_type": "markdown",
      "metadata": {},
      "source": [
        "### For loop"
      ]
    },
    {
      "cell_type": "code",
      "execution_count": 1,
      "metadata": {
        "id": "BCc1WV2Yh_cm",
        "outputId": "476fc693-36bf-40fa-869d-0f6315da2086"
      },
      "outputs": [
        {
          "name": "stdout",
          "output_type": "stream",
          "text": [
            "1\n",
            "Ready\n",
            "2\n",
            "Ready\n",
            "3\n",
            "Ready\n",
            "4\n",
            "Ready\n",
            "5\n",
            "Ready\n"
          ]
        }
      ],
      "source": [
        "for x in range(1, 6):\n",
        "    print(x)\n",
        "    print(\"Ready\")\n",
        "\n",
        "# 1\n",
        "# 2\n",
        "# 3\n",
        "# 4 \n",
        "# 5\n",
        "# Ready"
      ]
    },
    {
      "cell_type": "markdown",
      "metadata": {
        "id": "YNHW1Abmh_cm"
      },
      "source": [
        "### While loop"
      ]
    },
    {
      "cell_type": "raw",
      "metadata": {
        "id": "p3YQkgxKh_cm"
      },
      "source": [
        "The syntax of a while statement is:\n",
        "while <boolean expression>:\n",
        "    <actions>"
      ]
    },
    {
      "cell_type": "code",
      "execution_count": 9,
      "metadata": {
        "id": "DYP3WdHdh_cm",
        "outputId": "57d852b7-7e87-4659-e5ac-343845ca9793"
      },
      "outputs": [
        {
          "name": "stdout",
          "output_type": "stream",
          "text": [
            "1\n",
            "2\n",
            "3\n",
            "4\n",
            "5\n",
            "Ready\n"
          ]
        }
      ],
      "source": [
        "num = 1\n",
        "while num <= 5:\n",
        "    print(num)\n",
        "    num += 1\n",
        "print(\"Ready\")\n",
        "\n",
        "# 1\n",
        "# 2\n",
        "# 3\n",
        "# 4 \n",
        "# 5\n",
        "# Ready"
      ]
    },
    {
      "cell_type": "markdown",
      "metadata": {
        "id": "gKLR9c2ah_cm"
      },
      "source": [
        "## Break statement"
      ]
    },
    {
      "cell_type": "code",
      "execution_count": 2,
      "metadata": {
        "id": "nXm7UTq4h_cm",
        "outputId": "529e8918-bba9-4f38-87cf-e837d28625a1"
      },
      "outputs": [
        {
          "name": "stdout",
          "output_type": "stream",
          "text": [
            "The student did not pass\n"
          ]
        }
      ],
      "source": [
        "# A student passes if not one of his scores is less than 5\n",
        "result = \"passes\"\n",
        "for score in (8, 7.5, 9, 6, 6, 6, 4.5, 7, 5, 8, 7, 7.5):\n",
        "    if score < 5.0:\n",
        "        result = \"did not pass\"\n",
        "        # If 1 score is less than 5.5 => the student fails => the loop can be interrupted\n",
        "        break\n",
        "print(\"The student \" + result)\n",
        "\n",
        "# \"The student did not pass\""
      ]
    },
    {
      "cell_type": "markdown",
      "metadata": {},
      "source": [
        "### Continue statement"
      ]
    },
    {
      "cell_type": "code",
      "execution_count": null,
      "metadata": {},
      "outputs": [
        {
          "name": "stdout",
          "output_type": "stream",
          "text": [
            "1\n",
            "3\n",
            "5\n",
            "7\n",
            "9\n"
          ]
        }
      ],
      "source": [
        "# The odd numbers less than 10 will be printed\n",
        "i = 0\n",
        "while i < 10:\n",
        "    i += 1       \n",
        "    if i % 2 == 0:\n",
        "        continue\n",
        "    print(i)\n",
        "\n",
        "# 1\n",
        "# 3\n",
        "# 5\n",
        "# 7\n",
        "# 9"
      ]
    },
    {
      "cell_type": "markdown",
      "metadata": {
        "id": "b_vRsbhGh_cq"
      },
      "source": [
        "### Functions"
      ]
    },
    {
      "cell_type": "markdown",
      "metadata": {
        "id": "d6Y4Yukgh_cq"
      },
      "source": [
        "Python functions are defined using the def keyword. For example:"
      ]
    },
    {
      "cell_type": "code",
      "execution_count": 25,
      "metadata": {
        "id": "VzG0b6iWh_cq",
        "outputId": "db7d7c7c-3487-4e1c-c6e7-83bc85067777"
      },
      "outputs": [
        {
          "name": "stdout",
          "output_type": "stream",
          "text": [
            "negative\n",
            "zero\n",
            "positive\n"
          ]
        }
      ],
      "source": [
        "def sign(x):\n",
        "    if x > 0:\n",
        "        return 'positive'\n",
        "    elif x < 0:\n",
        "        return 'negative'\n",
        "    else:\n",
        "        return 'zero'\n",
        "\n",
        "for x in [-1, 0, 1]:\n",
        "    print(sign(x))\n",
        "# Prints \"negative\", \"zero\", \"positive\""
      ]
    },
    {
      "cell_type": "markdown",
      "metadata": {
        "id": "MsW_XW-Ph_cq"
      },
      "source": [
        "We will often define functions to take optional keyword arguments, like this:"
      ]
    },
    {
      "cell_type": "code",
      "execution_count": 26,
      "metadata": {
        "id": "LWtxa4Ish_cq",
        "outputId": "a5c4ecad-3ac9-4728-c991-45d44fa0d2f5"
      },
      "outputs": [
        {
          "name": "stdout",
          "output_type": "stream",
          "text": [
            "Hello, Bob\n",
            "HELLO, FRED!\n"
          ]
        }
      ],
      "source": [
        "def hello(name, loud=False):\n",
        "    if loud:\n",
        "        print('HELLO, %s!' % name.upper())\n",
        "    else:\n",
        "        print('Hello, %s' % name)\n",
        "\n",
        "hello('Bob') # Prints \"Hello, Bob\"\n",
        "hello('Fred', loud=True)  # Prints \"HELLO, FRED!\""
      ]
    },
    {
      "cell_type": "markdown",
      "metadata": {
        "id": "UUegpKIVh_cq"
      },
      "source": [
        "### Classes\n",
        "\n",
        "The syntax for defining classes in Python is straightforward:"
      ]
    },
    {
      "cell_type": "code",
      "execution_count": 27,
      "metadata": {
        "id": "QxbB0zv2h_cq",
        "outputId": "c59c62c1-e8c5-494b-e775-674a8a9794b9"
      },
      "outputs": [
        {
          "name": "stdout",
          "output_type": "stream",
          "text": [
            "Fido\n",
            "['roll over', 'play dead']\n",
            "woof woof\n",
            "2\n"
          ]
        }
      ],
      "source": [
        "class Dog:\n",
        "    dogCount = 0;\n",
        "    def __init__(self, name):\n",
        "        self.name = name\n",
        "        self.tricks = [] # Creates an empty list of tricks for each dog\n",
        "        Dog.dogCount += 1 # Increments the total number of dogs   \n",
        "    \n",
        "    def add_trick(self, trick):\n",
        "        self.tricks.append(trick)\n",
        "        \n",
        "    def bark(self):\n",
        "        return \"woof woof\"\n",
        "\n",
        "d = Dog('Fido')\n",
        "e = Dog('Nero')\n",
        "d.add_trick('roll over')\n",
        "d.add_trick('play dead')\n",
        "print(d.name) # Prints \"Fido\"\n",
        "print(d.tricks) # Prints ['roll over', 'play dead']\n",
        "print(d.bark()) # Prints \"woof woof\"\n",
        "print(Dog.dogCount) #Prints \"2\""
      ]
    }
  ],
  "metadata": {
    "colab": {
      "name": "Python_Introduction.ipynb",
      "provenance": []
    },
    "kernelspec": {
      "display_name": ".venv",
      "language": "python",
      "name": "python3"
    },
    "language_info": {
      "codemirror_mode": {
        "name": "ipython",
        "version": 3
      },
      "file_extension": ".py",
      "mimetype": "text/x-python",
      "name": "python",
      "nbconvert_exporter": "python",
      "pygments_lexer": "ipython3",
      "version": "3.12.8"
    }
  },
  "nbformat": 4,
  "nbformat_minor": 0
}
