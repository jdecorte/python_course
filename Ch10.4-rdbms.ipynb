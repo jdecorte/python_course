{
 "cells": [
  {
   "cell_type": "markdown",
   "metadata": {},
   "source": [
    "# Database API's voor relationele databanken\n",
    "\n",
    "> Er bestaan verschillende methodes om vanuit een algemene programmeertaal (Java, C#, C++, Python, ...) \n",
    "> een relationele databank aan te spreken. \n",
    "> We bespreken elke methode aan de hand van Python als programmeertaal en \n",
    "> Micrsoft SQL Server als database, maar de principes zijn toepasbaar op \n",
    "> elke combinatie programmeertaal - databank.\n"
   ]
  },
  {
   "cell_type": "markdown",
   "metadata": {},
   "source": [
    "## Voorbeeld relationele database: xtreme\n",
    "\n",
    "![](./xtreme.png)"
   ]
  },
  {
   "cell_type": "markdown",
   "metadata": {},
   "source": [
    "## Voorbeeldstatements\n",
    "\n",
    "1. **Eenvoudige SELECT**  \n",
    "   Toon productid, productname en voorraad (UnitsInStock) voor de 5 producten met de grootste vooraad. Sorteer aflopend op vooraad.\n",
    "    ```sql\n",
    "   select top 5 productid, productname, unitsinstock\n",
    "   from product\n",
    "   order by unitsinstock desc;\n",
    "    ```\n",
    "  \n",
    "2. **Complexere SELECT**  \n",
    "   Wat zijn de 10 best verkochte producten? Toon ook de omzet per product.\n",
    "   \n",
    "    ```sql\n",
    "   select top 10 p.ProductID, p.ProductName, \n",
    "   sum(od.Quantity*od.UnitPrice) as sales\n",
    "   from Product p join OrdersDetail od\n",
    "   on p.ProductID=od.ProductID\n",
    "   group by p.ProductID, p.ProductName\n",
    "   order by sum(od.Quantity*od.UnitPrice) desc;\n",
    "    ```\n",
    "\n",
    "3. **UPDATE**  \n",
    "   Verhoog de prijzen van alle producten van het producttype x met y % (x en y zijn parameters).\n",
    "\n",
    "   ```sql\n",
    "   update Product \n",
    "   set Price = Price * 1.10\n",
    "   where ProductTypeID \n",
    "   in (select ProductTypeID \n",
    "   from Producttype where producttypename='Mountain')\n",
    "   ``` \n",
    "\n",
    "4. **INSERT**  \n",
    "   Voeg de niewe Courier \"bpost\" toe. \n",
    "    ```sql\n",
    "   insert into Courier (CourierID, CourierName,Website)\n",
    "   values (11,'bpost','www.bpost.be')\n",
    "   ```\n",
    "\n",
    "5. **DELETE**  \n",
    "   Verwijder courier \"bpost\". \n",
    "   ```sql\n",
    "   delete from Courier where CourierName = 'bpost'\n",
    "    ```"
   ]
  },
  {
   "cell_type": "markdown",
   "metadata": {},
   "source": [
    "## INHOUD\n",
    "1. Plain SQL in Python code\n",
    "2. SQL command in stored procedure\n",
    "3. Language Integrated Query (LINQ)\n",
    "4. Object Relational Mapping (ORM)\n"
   ]
  },
  {
   "cell_type": "markdown",
   "metadata": {},
   "source": [
    "## 1. Plain SQL in Python code\n",
    "\n",
    "- SQL is voor Python slechts een string\n",
    "- Gebruik een database-specifieke Python-libary, bijv. pyodbc voor SQL Server of sqlite3 voor SQLite"
   ]
  },
  {
   "cell_type": "markdown",
   "metadata": {},
   "source": [
    "### 1.1. Initiële setup"
   ]
  },
  {
   "cell_type": "code",
   "execution_count": null,
   "metadata": {},
   "outputs": [],
   "source": [
    "!pip install pyodbc"
   ]
  },
  {
   "cell_type": "code",
   "execution_count": null,
   "metadata": {
    "slideshow": {
     "slide_type": "slide"
    }
   },
   "outputs": [],
   "source": [
    "######################################\n",
    "# Plain SQL: native PyODBC API  \n",
    "######################################\n",
    "print ('*** Native PyODBC API ***')\n",
    "\n",
    "import pyodbc  \n",
    "\n",
    "# connect to MS-SQL Server database using Windows authentication (Trusted_Connection=yes)\n",
    "# connections strings are vendor specific!\n",
    "conn = pyodbc.connect(r'DRIVER={ODBC Driver 17 for SQL Server};SERVER=NB22-DMTYCL3;DATABASE=xtreme;Trusted_Connection=yes;')\n",
    "cursor = conn.cursor()\n",
    "\n",
    "\n"
   ]
  },
  {
   "cell_type": "markdown",
   "metadata": {},
   "source": [
    "### 1.2. Statement 1\n",
    "\n",
    "```sql\n",
    "   select top 5 productid, productname, unitsinstock\n",
    "   from product\n",
    "   order by unitsinstock desc;\n",
    "```"
   ]
  },
  {
   "cell_type": "code",
   "execution_count": null,
   "metadata": {},
   "outputs": [],
   "source": [
    "stmt = \"select top 5 productid, productname, unitsinstock from product order by unitsinstock desc;\"\n",
    "cursor.execute(stmt)\n",
    "rows = cursor.fetchall()\n",
    "print(f'Rows is of data type {type(rows)}')\n",
    "print()\n",
    "\n",
    "print(f'{\"ID\":<5} {\"Name\":<30} {\"Units in stock\":>7}')\n",
    "print('-'*51)\n",
    "for row in rows:\n",
    "    print(f'{row[0]:<5} {row[1]:<30} {round(row[2]):>7}')\n",
    "\n"
   ]
  },
  {
   "cell_type": "markdown",
   "metadata": {},
   "source": [
    "### 1.3. Statement 2\n",
    "\n",
    "```sql\n",
    "select top 10 p.ProductID, p.ProductName, \n",
    "sum(od.Quantity*od.UnitPrice) as sales\n",
    "from Product p join OrdersDetail od\n",
    "on p.ProductID=od.ProductID\n",
    "group by p.ProductID, p.ProductName\n",
    "order by sum(od.Quantity*od.UnitPrice) desc;\n",
    "```"
   ]
  },
  {
   "cell_type": "code",
   "execution_count": null,
   "metadata": {},
   "outputs": [],
   "source": [
    "stmt =  \"\"\"\n",
    "        select top 10 p.ProductID, p.ProductName, \n",
    "        sum(od.Quantity*od.UnitPrice) as sales\n",
    "        from Product p join OrdersDetail od\n",
    "        on p.ProductID=od.ProductID\n",
    "        group by p.ProductID, p.ProductName\n",
    "        order by sum(od.Quantity*od.UnitPrice) desc;\n",
    "        \"\"\"\n",
    "\n",
    "cursor.execute(stmt)\n",
    "rows = cursor.fetchall()\n",
    "\n",
    "print(f'{\"ID\":<10} {\"Name\":<30} {\"Sales\":>7}')\n",
    "print('-'*51)\n",
    "for row in rows:\n",
    "    print(f'{row[0]:<10} {row[1]:<30} {round(row[2],2):7.2f}' )"
   ]
  },
  {
   "cell_type": "markdown",
   "metadata": {},
   "source": [
    "### 1.4. Statement 3\n",
    "\n",
    "```sql\n",
    "update Product \n",
    "set Price = Price * 1.10\n",
    "where ProductTypeID \n",
    "in (select ProductTypeID \n",
    "from Producttype where producttypename='Mountain')\n",
    "```"
   ]
  },
  {
   "cell_type": "code",
   "execution_count": null,
   "metadata": {},
   "outputs": [],
   "source": [
    "# Statement 3\n",
    "\n",
    "stmt = \"\"\"\n",
    "    update Product \n",
    "    set Price = Price * (1 + ?/100.0)\n",
    "    where ProductTypeID \n",
    "    in (select ProductTypeID \n",
    "    from Producttype where producttypename=?);\n",
    "    \"\"\"\n",
    "cursor.execute(stmt, (10, 'Mountain') )"
   ]
  },
  {
   "cell_type": "code",
   "execution_count": null,
   "metadata": {},
   "outputs": [],
   "source": [
    "# Check results\n",
    "stmt = \"select productid, productname,price from product \\\n",
    "        where ProductTypeID in \\\n",
    "        (select ProductTypeID from Producttype where producttypename='Mountain');\"\n",
    "cursor.execute(stmt)\n",
    "rows = cursor.fetchall()\n",
    "\n",
    "print(f'{\"ID\":<6} {\"Name\":<15} {\"Price\":<7}')\n",
    "print('-'*30)\n",
    "for row in rows:\n",
    "    print(f'{row[0]:<6} {row[1]:<15} {round(row[2],2):7.2f}' )\n"
   ]
  },
  {
   "cell_type": "markdown",
   "metadata": {},
   "source": [
    "Ofwel, updates terugdraaien..."
   ]
  },
  {
   "cell_type": "code",
   "execution_count": 11,
   "metadata": {},
   "outputs": [],
   "source": [
    "conn.rollback() # by default autocommit is off"
   ]
  },
  {
   "cell_type": "markdown",
   "metadata": {},
   "source": [
    "...ofwel, updates bevestigen. "
   ]
  },
  {
   "cell_type": "code",
   "execution_count": 8,
   "metadata": {},
   "outputs": [],
   "source": [
    "conn.commit()"
   ]
  },
  {
   "cell_type": "markdown",
   "metadata": {},
   "source": [
    "### 1.5 Statement 4\n",
    "```sql\n",
    "insert into Courier (CourierID, CourierName,Website)\n",
    "values (11,'bpost','www.bpost.be')\n",
    "```"
   ]
  },
  {
   "cell_type": "code",
   "execution_count": null,
   "metadata": {},
   "outputs": [],
   "source": [
    "stmt = \"insert into Courier (CourierID, CourierName,Website) values (11,'bpost','www.bpost.be');\"\n",
    "cursor.execute(stmt )"
   ]
  },
  {
   "cell_type": "code",
   "execution_count": null,
   "metadata": {},
   "outputs": [],
   "source": [
    "# Check results\n",
    "stmt = \"SELECT * FROM courier;\"\n",
    "cursor.execute(stmt)\n",
    "rows = cursor.fetchall()\n",
    "\n",
    "print(f'{\"CourierID\":<10} {\"Name\":<30}')\n",
    "print('-'*26)\n",
    "for row in rows:\n",
    "    print(f'{row[0]:<10} {row[1]:<30}' )"
   ]
  },
  {
   "cell_type": "markdown",
   "metadata": {},
   "source": [
    "Voer `rollback()` uit om de wijzigingen terug te draaien, of `commit()` om ze definitief te maken. "
   ]
  },
  {
   "cell_type": "code",
   "execution_count": 15,
   "metadata": {},
   "outputs": [],
   "source": [
    "conn.rollback()"
   ]
  },
  {
   "cell_type": "code",
   "execution_count": 12,
   "metadata": {},
   "outputs": [],
   "source": [
    "conn.commit()"
   ]
  },
  {
   "cell_type": "markdown",
   "metadata": {},
   "source": [
    "### 1.6 Statement 5\n",
    "```sql\n",
    "delete from Courier where CourierName = 'bpost'\n",
    "```"
   ]
  },
  {
   "cell_type": "code",
   "execution_count": null,
   "metadata": {},
   "outputs": [],
   "source": [
    "stmt = \"delete from Courier where CourierName = 'bpost';\"\n",
    "cursor.execute(stmt )"
   ]
  },
  {
   "cell_type": "code",
   "execution_count": null,
   "metadata": {},
   "outputs": [],
   "source": [
    "# Check results\n",
    "stmt = \"SELECT * FROM courier ORDER BY courierid;\"\n",
    "cursor.execute(stmt)\n",
    "rows = cursor.fetchall()\n",
    "\n",
    "print(f'{\"CourierID\":<10} {\"Name\":<15}')\n",
    "print('-'*26)\n",
    "for row in rows:\n",
    "    print(f'{row[0]:<10} {row[1]:<15}')"
   ]
  },
  {
   "cell_type": "code",
   "execution_count": 15,
   "metadata": {},
   "outputs": [],
   "source": [
    "conn.rollback()"
   ]
  },
  {
   "cell_type": "code",
   "execution_count": 21,
   "metadata": {},
   "outputs": [],
   "source": [
    "conn.commit()"
   ]
  },
  {
   "cell_type": "markdown",
   "metadata": {},
   "source": [
    "### 1.7. Afsluiten"
   ]
  },
  {
   "cell_type": "code",
   "execution_count": 22,
   "metadata": {},
   "outputs": [],
   "source": [
    "conn.close()"
   ]
  },
  {
   "cell_type": "markdown",
   "metadata": {},
   "source": [
    "### 1.8. Voor- en nadelen van \"Plain SQL\""
   ]
  },
  {
   "cell_type": "markdown",
   "metadata": {},
   "source": [
    "- `+` Eenvoudig in gebruik: test je SQL string m.b.v. een SQL tool en copy-paste naar Python\n",
    "- `-` Geen SQL syntax check bij de ontwikkeling --> errors duiken op at runtime\n",
    "- `-` Geen integratie met Python objecten.\n",
    "- `-` Code is niet porteerbaar naar andere databanken: \n",
    "  - `-` Je gebruikt software-bibliotheken die specifiek zijn voor een bepaald database-systeem (= native API)\n",
    "  - `-` SQL-code volgt dialect van een bepaalde database en is dus niet noodzakelijk porteerbaar naar een andere database (vb. `SELECT TOP ...`). "
   ]
  },
  {
   "cell_type": "markdown",
   "metadata": {},
   "source": [
    "## 2. SQL command in stored procedure\n",
    "\n",
    "- Syntactisch identiek aan \"Plain SQL\".\n",
    "- SQL command wordt ingebed in stored procedure (\"embedded SQL\") en buiten Python getest.\n",
    "- In Python enkel nog \"exec <stored proc>\". "
   ]
  },
  {
   "cell_type": "markdown",
   "metadata": {},
   "source": [
    "Omdat de werkwijze telkens dezelfde is, illustreren we dit enkel aan de hand van Statement 1. "
   ]
  },
  {
   "cell_type": "markdown",
   "metadata": {},
   "source": [
    "```sql\n",
    "select top 5 productid, productname, unitsinstock\n",
    "from product\n",
    "order by unitsinstock desc;\n",
    "```"
   ]
  },
  {
   "cell_type": "code",
   "execution_count": 23,
   "metadata": {},
   "outputs": [],
   "source": [
    "# connect to MS-SQL Server database using Windows authentication (Trusted_Connection=yes)\n",
    "# connections strings are vendor specific!\n",
    "conn = pyodbc.connect(r'DRIVER={ODBC Driver 17 for SQL Server};SERVER=NB22-DMTYCL3;DATABASE=xtreme;Trusted_Connection=yes;')\n",
    "cursor = conn.cursor()"
   ]
  },
  {
   "cell_type": "code",
   "execution_count": null,
   "metadata": {},
   "outputs": [],
   "source": [
    "'''\n",
    "In database xtreme: \n",
    "    create or alter procedure ProductsInStock\n",
    "    as\n",
    "        select top 5 productid, productname, unitsinstock from product order by unitsinstock desc;\n",
    "'''\n",
    "\n",
    "stmt = \"exec ProductsInStock;\"\n",
    "cursor.execute(stmt)\n",
    "rows = cursor.fetchall()\n",
    "print(f'Rows is of data type {type(rows)}')\n",
    "print()\n",
    "\n",
    "print(f'{\"ID\":<5} {\"Name\":<30} {\"Units in stock\":>7}')\n",
    "print('-'*51)\n",
    "for row in rows:\n",
    "    print(f'{row[0]:<5} {row[1]:<30} {round(row[2]):>7}')"
   ]
  },
  {
   "cell_type": "markdown",
   "metadata": {},
   "source": [
    "### SQL command in stored procedure\n",
    "- `+` Eenvoudig in gebruik: test je SQL string m.b.v. een SQL tool, steek die in een procedure en voor enkel 'exec <proc>' uit in Python. \n",
    "- `+` SQL syntax check bij de ontwikkeling bij CREATE/ALTER STORED PROCEDURE\n",
    "- `-` Geen integratie met Python objecten.\n",
    "- `-` Code is niet porteerbaar naar andere databanken: \n",
    "- `-` Je gebruikt software-bibliotheken die specifiek zijn voor een bepaald database-systeem (= native API)."
   ]
  },
  {
   "cell_type": "markdown",
   "metadata": {},
   "source": [
    "## 3. Language Integrated Query (LINQ)\n",
    "\n",
    "- Bouw het SQL-commando op aan de hand van Python-functies. \n",
    "- Gebruik een database-onafhankelijke Python-library: SQL Alchemy Core. \n",
    "- Tabellen als geheel zijn objecten. "
   ]
  },
  {
   "cell_type": "code",
   "execution_count": null,
   "metadata": {},
   "outputs": [],
   "source": [
    "!pip install sqlalchemy"
   ]
  },
  {
   "cell_type": "markdown",
   "metadata": {},
   "source": [
    "### 3.1. Initiële setup"
   ]
  },
  {
   "cell_type": "code",
   "execution_count": null,
   "metadata": {},
   "outputs": [],
   "source": [
    "###################################################################################\n",
    "#  LINQ (Language Integrated Query) met SQL Alchemy Core --> \n",
    "###################################################################################\n",
    "\n",
    "import sqlalchemy\n",
    "sqlalchemy.__version__"
   ]
  },
  {
   "cell_type": "code",
   "execution_count": null,
   "metadata": {},
   "outputs": [],
   "source": [
    "# Establishing a connection\n",
    "print ('*** SQL Alchemy Core ***')\n",
    "\n",
    "from sqlalchemy import create_engine  \n",
    "engine = create_engine('mssql+pyodbc://NB22-DMTYCL3/xtreme?trusted_connection=yes&driver=ODBC+Driver+17+for+SQL+Server')\n",
    "\n",
    "conn = engine.connect() "
   ]
  },
  {
   "cell_type": "code",
   "execution_count": 28,
   "metadata": {},
   "outputs": [],
   "source": [
    "# Setting up MetaData with Table Objects\n",
    "from sqlalchemy import MetaData, Table, Column, Integer, String, Float, Numeric\n",
    "metadata = MetaData()   # This object is essentially a facade around a Python dictionary \n",
    "                        # that stores a series \n",
    "                        # of Table objects keyed to their string name. \n",
    "\n",
    "# Option 1: explicit Table objects\n",
    "Product = Table('Product', metadata, \n",
    "               Column('ProductID', Integer, primary_key=True),\n",
    "               Column('ProductName', String),\n",
    "               Column('Color', String),\n",
    "               Column('Sizes', String),\n",
    "               Column('M_F', String),\n",
    "               Column('Price', Numeric(8,2)),\n",
    "               Column('ProductTypeID', Integer),\n",
    "               Column('ProductClassID', Integer),\n",
    "               Column('SupplierID', Integer),\n",
    "               Column('ReorderLevel', Integer),\n",
    "               Column('UnitsInStock', Integer))          \n",
    "\n",
    "# Option 2: reflecting tables: generate Table objects automatically from database     \n",
    "OrdersDetail = Table('OrdersDetail', metadata, autoload_with=engine)\n",
    "ProductType = Table('ProductType', metadata, autoload_with=engine)\n",
    "Courier = Table('Courier', metadata, autoload_with=engine)  "
   ]
  },
  {
   "cell_type": "markdown",
   "metadata": {},
   "source": [
    "### 3.2. Statement 1\n",
    "\n",
    "```sql\n",
    "select top 5 productid, productname, unitsinstock\n",
    "from product\n",
    "order by unitsinstock desc;\n",
    "```"
   ]
  },
  {
   "cell_type": "code",
   "execution_count": null,
   "metadata": {},
   "outputs": [],
   "source": [
    "from sqlalchemy import select\n",
    "stmt = select(Product.c.ProductID,Product.c.ProductName, Product.c.UnitsInStock) \\\n",
    "       .order_by(Product.c.UnitsInStock.desc()) \\\n",
    "       .limit(5)\n",
    "\n",
    "rows = conn.execute(stmt)\n",
    "\n",
    "print(f'{\"ID\":<5} {\"Name\":<30} {\"Units in stock\":>7}')\n",
    "print('-'*51)\n",
    "for row in rows:\n",
    "    print(f'{row[0]:<5} {row[1]:<30} {round(row[2]):>7}')\n"
   ]
  },
  {
   "cell_type": "markdown",
   "metadata": {},
   "source": [
    "### 3.3. Statement 2\n",
    "\n",
    "```sql\n",
    "select top 10 p.ProductID, p.ProductName, \n",
    "sum(od.Quantity*od.UnitPrice) as sales\n",
    "from Product p join OrdersDetail od\n",
    "on p.ProductID=od.ProductID\n",
    "group by p.ProductID, p.ProductName\n",
    "order by sum(od.Quantity*od.UnitPrice) desc;\n",
    "```"
   ]
  },
  {
   "cell_type": "code",
   "execution_count": null,
   "metadata": {},
   "outputs": [],
   "source": [
    "from sqlalchemy import select, func\n",
    "\n",
    "stmt = select(Product.c.ProductID,Product.c.ProductName,func.sum(OrdersDetail.c.Quantity * OrdersDetail.c.UnitPrice)) \\\n",
    "       .select_from(Product) \\\n",
    "       .join(OrdersDetail, Product.c.ProductID == OrdersDetail.c.ProductID) \\\n",
    "       .group_by(Product.c.ProductID, Product.c.ProductName) \\\n",
    "       .order_by(func.sum(OrdersDetail.c.Quantity * OrdersDetail.c.UnitPrice).desc()) \\\n",
    "       .limit(10)\n",
    "\n",
    "print(stmt)\n",
    "\n",
    "rows = conn.execute(stmt)\n",
    "\n",
    "print(f'{\"ID\":<10} {\"Name\":<30} {\"Sales\":>7}')\n",
    "print('-'*51)\n",
    "for row in rows:\n",
    "    print(f'{row[0]:<10} {row[1]:<30} {round(row[2],2):7.2f}' )"
   ]
  },
  {
   "cell_type": "markdown",
   "metadata": {},
   "source": [
    "### 3.4. Statement 3\n",
    "\n",
    "```sql\n",
    "update Product \n",
    "set Price = Price * 1.10\n",
    "where ProductTypeID \n",
    "in (select ProductTypeID from Producttype where producttypename='Mountain')\n",
    "```"
   ]
  },
  {
   "cell_type": "code",
   "execution_count": null,
   "metadata": {},
   "outputs": [],
   "source": [
    "from sqlalchemy import update,bindparam\n",
    "\n",
    "subq = select(ProductType.c.ProductTypeID).where(ProductType.c.ProductTypeName == bindparam(\"type\"))\n",
    "\n",
    "stmt = (update(Product).values(Price=Product.c.Price * (1 + bindparam(\"pct\"))).where(Product.c.ProductTypeID.in_(subq)))\n",
    "print(stmt) # string representation of the statement\n",
    "conn.execute(stmt,{\"pct\":0.1, \"type\":\"Mountain\"}) \n"
   ]
  },
  {
   "cell_type": "code",
   "execution_count": null,
   "metadata": {},
   "outputs": [],
   "source": [
    "# Check results\n",
    "from sqlalchemy import select\n",
    "\n",
    "subq = select(ProductType.c.ProductTypeID).where(ProductType.c.ProductTypeName == \"Mountain\")\n",
    "\n",
    "stmt = select(Product.c.ProductID,Product.c.ProductName,Product.c.Price) \\\n",
    "        .where(Product.c.ProductTypeID.in_(subq))\n",
    "print(stmt)\n",
    "rows = conn.execute(stmt)\n",
    "\n",
    "print(f'{\"ID\":<5} {\"Name\":<40} {\"Unitprice\":>7}')\n",
    "print('-'*54)\n",
    "for row in rows:\n",
    "    print(f'{row[0]:<5} {row[1]:<40} {row[2]:7.2f}')\n",
    "    "
   ]
  },
  {
   "cell_type": "code",
   "execution_count": 33,
   "metadata": {},
   "outputs": [],
   "source": [
    "conn.rollback()"
   ]
  },
  {
   "cell_type": "code",
   "execution_count": 29,
   "metadata": {},
   "outputs": [],
   "source": [
    "conn.commit()"
   ]
  },
  {
   "cell_type": "markdown",
   "metadata": {},
   "source": [
    "### 3.5 Statement 4\n",
    "```sql\n",
    "insert into Courier (CourierID, CourierName,Website)\n",
    "values (11,'bpost','www.bpost.be')\n",
    "```"
   ]
  },
  {
   "cell_type": "code",
   "execution_count": null,
   "metadata": {},
   "outputs": [],
   "source": [
    "from sqlalchemy import insert\n",
    "stmt = insert(Courier).values(CourierID=11,CourierName='bpost', Website='www.bpost.be')\n",
    "conn.execute(stmt)"
   ]
  },
  {
   "cell_type": "code",
   "execution_count": null,
   "metadata": {},
   "outputs": [],
   "source": [
    "# Check results\n",
    "from sqlalchemy import select\n",
    "\n",
    "stmt = select(Courier)\n",
    "rows = conn.execute(stmt)\n",
    "\n",
    "print(f'{\"CourierID\":<10} {\"CourierName\":<30} {\"Website\":<30}')\n",
    "print('-'*72)\n",
    "for row in rows:\n",
    "    print(f'{row[0]:<10} {row[1]:<30} { row[2] if row[2] else \"\"}' )"
   ]
  },
  {
   "cell_type": "code",
   "execution_count": 40,
   "metadata": {},
   "outputs": [],
   "source": [
    "conn.rollback()"
   ]
  },
  {
   "cell_type": "code",
   "execution_count": 56,
   "metadata": {},
   "outputs": [],
   "source": [
    "conn.commit()"
   ]
  },
  {
   "cell_type": "markdown",
   "metadata": {},
   "source": [
    "### 3.6 Statement 5\n",
    "```sql\n",
    "delete from Courier where CourierName = 'bpost''\n",
    "```"
   ]
  },
  {
   "cell_type": "code",
   "execution_count": null,
   "metadata": {},
   "outputs": [],
   "source": [
    "from sqlalchemy import delete\n",
    "stmt = delete(Courier).where(Courier.c.CourierName == 'bpost')\n",
    "conn.execute(stmt)"
   ]
  },
  {
   "cell_type": "code",
   "execution_count": null,
   "metadata": {},
   "outputs": [],
   "source": [
    "# Check results\n",
    "from sqlalchemy import select\n",
    "\n",
    "stmt = select(Courier)\n",
    "rows = conn.execute(stmt)\n",
    "\n",
    "print(f'{\"CourierID\":<10} {\"CourierName\":<30} {\"Website\":<30}')\n",
    "print('-'*72)\n",
    "for row in rows:\n",
    "    print(f'{row[0]:<10} {row[1]:<30} { row[2] if row[2] else \"\"}' )"
   ]
  },
  {
   "cell_type": "code",
   "execution_count": 60,
   "metadata": {},
   "outputs": [],
   "source": [
    "conn.rollback()"
   ]
  },
  {
   "cell_type": "code",
   "execution_count": 37,
   "metadata": {},
   "outputs": [],
   "source": [
    "conn.commit()"
   ]
  },
  {
   "cell_type": "markdown",
   "metadata": {},
   "source": [
    "### 3.7. Afsluiten"
   ]
  },
  {
   "cell_type": "code",
   "execution_count": 62,
   "metadata": {},
   "outputs": [],
   "source": [
    "conn.close()"
   ]
  },
  {
   "cell_type": "markdown",
   "metadata": {},
   "source": [
    "### 3.8. Voor- en nadelen van LINQ\n",
    "- `+` SQL syntax check door Python --> fouten ontdekt bij het ontwikkelen\n",
    "- `+` Porteerbaar tussen databanksystemen\n",
    "- `-` Geen integratie met Python-objecten.\n",
    "- `-` Extra syntax moet aangeleerd worden. "
   ]
  },
  {
   "cell_type": "markdown",
   "metadata": {},
   "source": [
    "## 4. Object Relational Mapping (ORM)"
   ]
  },
  {
   "cell_type": "markdown",
   "metadata": {},
   "source": [
    "- Werk volledig op basis van Python-objecten. \n",
    "- Gebruik een database-onafhankelijke Python-library: SQL Alchemy ORM"
   ]
  },
  {
   "cell_type": "markdown",
   "metadata": {},
   "source": [
    "### 4.1. Initiële setup"
   ]
  },
  {
   "cell_type": "code",
   "execution_count": null,
   "metadata": {},
   "outputs": [],
   "source": [
    "###################################################################################\n",
    "# Database independant + application objects --> SQL Alchemy ORM \n",
    "###################################################################################\n",
    "\n",
    "# Establishing a connection\n",
    "print ('*** SQL Alchemy ORM ***')\n",
    "\n",
    "from sqlalchemy import create_engine  \n",
    "from sqlalchemy.orm import Session\n",
    "\n",
    "engine = create_engine('mssql+pyodbc://NB22-DMTYCL3/xtreme?trusted_connection=yes&driver=ODBC+Driver+17+for+SQL+Server')\n",
    "\n",
    "conn = engine.connect() \n",
    "\n",
    "session = Session(engine)\n"
   ]
  },
  {
   "cell_type": "markdown",
   "metadata": {},
   "source": [
    "Hier definiëren we constructies op moduleniveau die de structuren zullen vormen die we zullen bevragen vanuit de database.   \n",
    "Deze structuur, bekend als een Declarative Mapping, definieert zowel een Python objectmodel,   \n",
    "als database metadata die echte SQL tabellen beschrijft die bestaan, of zullen bestaan, in een bepaalde database. "
   ]
  },
  {
   "cell_type": "code",
   "execution_count": 77,
   "metadata": {},
   "outputs": [],
   "source": [
    "from sqlalchemy import String, select\n",
    "from sqlalchemy.orm import DeclarativeBase, Mapped, mapped_column\n",
    "\n",
    "from decimal import Decimal\n",
    "from typing_extensions import Annotated\n",
    "from sqlalchemy import Numeric\n",
    "from sqlalchemy.orm import registry\n",
    "num_8_2 = Annotated[Decimal, 8]\n",
    "\n",
    "class Base(DeclarativeBase):\n",
    "    registry = registry(\n",
    "        type_annotation_map={\n",
    "            num_8_2: Numeric(6, 2)\n",
    "        }\n",
    "    )\n",
    "\n",
    "# Option 1: explicit Table objects\n",
    "       \n",
    "class Product(Base):\n",
    "    __tablename__ = \"Product\"\n",
    "    ProductID: Mapped[int] = mapped_column(primary_key=True)\n",
    "    ProductName: Mapped[str]\n",
    "    Color: Mapped[str]\n",
    "    Sizes: Mapped[str]\n",
    "    M_F: Mapped[str]\n",
    "    Price: Mapped[float]\n",
    "    ProductTypeID: Mapped[int]\n",
    "    ProductClassID: Mapped[int]\n",
    "    SupplierID: Mapped[int]\n",
    "    ReorderLevel: Mapped[int]\n",
    "    UnitsInStock: Mapped[int]\n",
    "\n",
    "# Option 2: reflecting tables: generate Table objects automatically from database   \n",
    "\n",
    "Base.metadata.reflect(engine)   # get metadata from database\n",
    "\n",
    "class OrdersDetail(Base):  # each table is a subclass from the Base table\n",
    "    __table__ = Base.metadata.tables['OrdersDetail']\n",
    "\n",
    "class ProductType(Base):  \n",
    "    __table__ = Base.metadata.tables['ProductType']\n",
    "  \n",
    "class Courier(Base):\n",
    "    __table__ = Base.metadata.tables['Courier']\n",
    "\n",
    "\n"
   ]
  },
  {
   "cell_type": "markdown",
   "metadata": {},
   "source": [
    "### 4.2. Statement 1\n",
    "\n",
    "```sql\n",
    "select top 5 productid, productname, unitsinstock\n",
    "from product\n",
    "order by unitsinstock desc;\n",
    "```"
   ]
  },
  {
   "cell_type": "code",
   "execution_count": null,
   "metadata": {},
   "outputs": [],
   "source": [
    "stmt = select(Product.ProductID,Product.ProductName, (Product.UnitsInStock).label('Stock')) \\\n",
    "        .order_by(Product.UnitsInStock.desc()) \\\n",
    "        .limit(5)\n",
    "\n",
    "products = session.execute(stmt)\n",
    "\n",
    "print(f'{\"ID\":<5} {\"Name\":<30} {\"Stock\":>7}')\n",
    "print('-'*44)\n",
    "\n",
    "for product in products:\n",
    "    print(f'{product.ProductID:<5} {product.ProductName:<30} {product.Stock:>7}')"
   ]
  },
  {
   "cell_type": "markdown",
   "metadata": {},
   "source": [
    "### 4.3. Statement 2\n",
    "\n",
    "```sql\n",
    "select top 10 p.ProductID, p.ProductName, \n",
    "sum(od.Quantity*od.UnitPrice) as sales\n",
    "from Product p join OrdersDetail od\n",
    "on p.ProductID=od.ProductID\n",
    "group by p.ProductID, p.ProductName\n",
    "order by sum(od.Quantity*od.UnitPrice) desc;\n",
    "```"
   ]
  },
  {
   "cell_type": "code",
   "execution_count": null,
   "metadata": {},
   "outputs": [],
   "source": [
    "from sqlalchemy import func\n",
    "\n",
    "stmt = select(Product.ProductID,Product.ProductName,func.sum(OrdersDetail.Quantity * OrdersDetail.UnitPrice).label('Sales')) \\\n",
    "        .select_from(Product) \\\n",
    "        .join(OrdersDetail, Product.ProductID == OrdersDetail.ProductID) \\\n",
    "        .group_by(Product.ProductID, Product.ProductName) \\\n",
    "        .order_by(func.sum(OrdersDetail.Quantity * OrdersDetail.UnitPrice).desc()) \\\n",
    "        .limit(10)\n",
    "\n",
    "rows = session.execute(stmt)\n",
    "\n",
    "print(f'{\"ID\":<10} {\"Name\":<30} {\"Sales\":>7}')\n",
    "print('-'*49)\n",
    "for row in rows:\n",
    "    print(f'{row.ProductID:<10} {row.ProductName:<30} {round(row.Sales,2):7.2f}' )\n",
    "\n"
   ]
  },
  {
   "cell_type": "markdown",
   "metadata": {},
   "source": [
    "### 4.4. Statement 3\n",
    "\n",
    "```sql\n",
    "update Product \n",
    "set Price = Price * 1.10\n",
    "where ProductTypeID \n",
    "in (select ProductTypeID \n",
    "from Producttype where producttypename='Mountain')\n",
    "```"
   ]
  },
  {
   "cell_type": "code",
   "execution_count": null,
   "metadata": {},
   "outputs": [],
   "source": [
    "# Option 1: with update statement\n",
    "from sqlalchemy import update, bindparam\n",
    "stmt = update(Product).values(Price=Product.Price * (1 + bindparam(\"pct\"))).where(Product.ProductTypeID.in_(select(ProductType.ProductTypeID).where(ProductType.ProductTypeName == bindparam(\"type\"))))\n",
    "print(stmt) # stringify the statement\n",
    "session.execute(stmt,{\"pct\":0.1, \"type\":\"Mountain\"}) \n"
   ]
  },
  {
   "cell_type": "code",
   "execution_count": null,
   "metadata": {},
   "outputs": [],
   "source": [
    "# Option 2: with ORM objects\n",
    "pct = 0.1\n",
    "type = 'Mountain'\n",
    "\n",
    "stmt = select(Product).where(Product.ProductTypeID.in_(select(ProductType.ProductTypeID).where(ProductType.ProductTypeName == type))) \n",
    "print(stmt)  # stringify the statement\n",
    "products = session.scalars(stmt)  # with scalars() we receive ORM entities directly\n",
    "\n",
    "for product in products:\n",
    "    product.Price = product.Price * (1 + pct)\n"
   ]
  },
  {
   "cell_type": "code",
   "execution_count": null,
   "metadata": {},
   "outputs": [],
   "source": [
    "# Check results\n",
    "stmt = select(Product).where(Product.ProductTypeID.in_(select(ProductType.ProductTypeID).where(ProductType.ProductTypeName == 'Mountain')))\n",
    "print(stmt)  # stringify the statement\n",
    "products = session.scalars(stmt)  # with scalars() we receive ORM entities directly\n",
    "\n",
    "print(f'{\"ID\":<5} {\"Name\":<40} {\"price\":>7}')\n",
    "print('-'*55)\n",
    "for product in products:\n",
    "    print(f'{product.ProductID:<5} {product.ProductName:<40} {product.Price:>7.2f}')"
   ]
  },
  {
   "cell_type": "code",
   "execution_count": 72,
   "metadata": {},
   "outputs": [],
   "source": [
    "session.rollback()"
   ]
  },
  {
   "cell_type": "code",
   "execution_count": 47,
   "metadata": {},
   "outputs": [],
   "source": [
    "session.commit()"
   ]
  },
  {
   "cell_type": "markdown",
   "metadata": {},
   "source": [
    "### 4.5 Statement 4\n",
    "```sql\n",
    "insert into Courier (CourierID, CourierName,Website)\n",
    "values (11,'bpost','www.bpost.be')\n",
    "```\n",
    "\n",
    "- Bij gebruik van het ORM is het Session-object verantwoordelijk voor het construeren van Insert-constructies en het uitzenden ervan in een transactie. \n",
    "- De manier waarop we de Session instrueren dit te doen is door object entries toe te voegen.\n",
    "- De Session zorgt er dan voor dat deze nieuwe entries naar de database worden verzonden wanneer ze nodig zijn, met behulp van een proces dat bekend staat als een flush.\n",
    "\n"
   ]
  },
  {
   "cell_type": "code",
   "execution_count": 78,
   "metadata": {},
   "outputs": [],
   "source": [
    "bpost = Courier(CourierID=11, CourierName='bpost', Website='www.bpost.be')\n",
    "session.add(bpost)"
   ]
  },
  {
   "cell_type": "code",
   "execution_count": null,
   "metadata": {},
   "outputs": [],
   "source": [
    "# Check results\n",
    "stmt = select(Courier)\n",
    "print(stmt)  # stringify the statement\n",
    "couriers = session.scalars(stmt)\n",
    "\n",
    "print(f'{\"CourierID\":<10} {\"CourierName\":<30} {\"Website\":<30}')\n",
    "print('-'*72) \n",
    "for courier in couriers:\n",
    "    print(f'{courier.CourierID:<10} {courier.CourierName:<30} {courier.Website if courier.Website else \"\"}' )"
   ]
  },
  {
   "cell_type": "code",
   "execution_count": 80,
   "metadata": {},
   "outputs": [],
   "source": [
    "session.rollback()"
   ]
  },
  {
   "cell_type": "code",
   "execution_count": 51,
   "metadata": {},
   "outputs": [],
   "source": [
    "session.commit()"
   ]
  },
  {
   "cell_type": "markdown",
   "metadata": {},
   "source": [
    "### 4.6 Statement 5\n",
    "```sql\n",
    "delete from Courier where CourierName = 'bpost'\n",
    "```"
   ]
  },
  {
   "cell_type": "code",
   "execution_count": null,
   "metadata": {},
   "outputs": [],
   "source": [
    "stmt = select(Courier).where(Courier.CourierName == 'bpost')\n",
    "result = session.scalars(stmt).all()  # with scalars() we receive ORM entities directly,  with all() we get all results as a list\n",
    "if len(result) > 0:  \n",
    "    print('Courier bpost exists')\n",
    "    bpost = result[0]   # get first courier with name bpost\n",
    "    session.delete(bpost)\n",
    "    print('Courier bpost deleted')\n",
    "else:\n",
    "    print('Courier bpost does not exist')\n"
   ]
  },
  {
   "cell_type": "code",
   "execution_count": null,
   "metadata": {},
   "outputs": [],
   "source": [
    "# Check results\n",
    "stmt = select(Courier)\n",
    "print(stmt)  # stringify the statement\n",
    "couriers = session.scalars(stmt)\n",
    "\n",
    "print(f'{\"CourierID\":<10} {\"CourierName\":<30} {\"Website\":<30}')\n",
    "print('-'*72) \n",
    "for courier in couriers:\n",
    "    print(f'{courier.CourierID:<10} {courier.CourierName:<30} {courier.Website if courier.Website else \"\"}' )"
   ]
  },
  {
   "cell_type": "code",
   "execution_count": 54,
   "metadata": {},
   "outputs": [],
   "source": [
    "session.rollback()"
   ]
  },
  {
   "cell_type": "code",
   "execution_count": 55,
   "metadata": {},
   "outputs": [],
   "source": [
    "session.commit()"
   ]
  },
  {
   "cell_type": "markdown",
   "metadata": {},
   "source": [
    "### 4.7. Afsluiten"
   ]
  },
  {
   "cell_type": "code",
   "execution_count": 75,
   "metadata": {},
   "outputs": [],
   "source": [
    "conn.close()"
   ]
  },
  {
   "cell_type": "markdown",
   "metadata": {},
   "source": [
    "### 4.8. Voor- en nadelen van ORM\n",
    "- `+` SQL syntax check door Python --> fouten ontdekt bij het ontwikkelen\n",
    "- `+` Porteerbaar tussen databanksystemen\n",
    "- `+` Integratie met Python-objecten\n",
    "- `-` Extra syntax moet aangeleerd worden\n",
    "- `-` Risico op trage code (vooral bij Optie 2: rechtstreeks gebruik van objecten) omdat men niet meer stilstaat bij gegenereerde SQL-commando's: \n",
    "  - SELECT *: onnodig veel kolommen ophalen\n",
    "  - teveel \"round-trips\" naar de database, door bijv. in een lus updates uit te voeren i.p.v. in één update-statement"
   ]
  },
  {
   "cell_type": "markdown",
   "metadata": {},
   "source": [
    "## 4. Conclusies\n",
    "\n",
    "- Gebruik \"Plain SQL\" \n",
    "  - om snel resultaat te hebben\n",
    "  - als je vertrouwd bent met de SQL-taal\n",
    "  - voor erg complexe query's die moeilijk om te zetten zijn naar SQLAlchemy\n",
    "  - maar geef er wel de voorkeur aan om de query via een stored procedure uit te voeren\n",
    "- Gebruik SQL Alchemy (ORM of Core)\n",
    "  - voor productiewaardige software\n",
    "- Gebruik SQL Alchemy ORM\n",
    "  - als object-oriëntatie een must is \n",
    "  - als onderdeel van een grotere applicatie\n",
    "  - als \"state\" of geheugen tussen calls belangrijk is\n",
    "  - maar trap niet in de \"performantie-val\": zorg ervoor dat je goed weet wat er gebeurt op de database"
   ]
  }
 ],
 "metadata": {
  "kernelspec": {
   "display_name": "Python 3",
   "language": "python",
   "name": "python3"
  },
  "language_info": {
   "codemirror_mode": {
    "name": "ipython",
    "version": 3
   },
   "file_extension": ".py",
   "mimetype": "text/x-python",
   "name": "python",
   "nbconvert_exporter": "python",
   "pygments_lexer": "ipython3",
   "version": "3.11.8"
  }
 },
 "nbformat": 4,
 "nbformat_minor": 2
}
