{
  "cells": [
    {
      "cell_type": "markdown",
      "metadata": {},
      "source": [
        "# Programming with Python\n",
        "\n",
        "## Table of Contents\n",
        "\n",
        "  * <a href=\"./Ch01 Computing and Computers.ipynb\">Chapter 1. Computing and Computers</a>\n",
        "  * <a href=\"./Ch02 Programming and Programming Languages.ipynb\">Chapter 2. Programming and Programming Languages</a>\n",
        "  * <a href=\"./Ch03 Representation of Data.ipynb\">Chapter 3. Representation of Data</a>\n",
        "  * <a href=\"./Ch04 Dive into Python.ipynb\">Chapter 4. Dive into Python</a>\n",
        "  * <a href=\"./Ch05 Conditional and Repetitive Execution.ipynb\">Chapter 5. Conditional and Repetitive Execution</a>\n",
        "  * <a href=\"./Ch06 Functions.ipynb\">Chapter 6. Functions</a>\n",
        "  * <a href=\"./Ch07 A Gentle Introduction to Object-Oriented Programming.ipynb\">Chapter 7. A Gentle Introduction to Object-Oriented Programming</a>\n",
        "  * <a href=\"./Ch08 File Handling.ipynb\">Chapter 8. File Handling</a>\n",
        "  * <a href=\"./kijkcijfers.ipynb\">Case study: kijkcijfers in Vlaanderen</a>\n"
      ]
    }
  ],
  "metadata": {
    "kernelspec": {
      "display_name": "Python (Pyodide)",
      "language": "python",
      "name": "python"
    },
    "language_info": {
      "codemirror_mode": {
        "name": "python",
        "version": 3
      },
      "file_extension": ".py",
      "mimetype": "text/x-python",
      "name": "python",
      "nbconvert_exporter": "python",
      "pygments_lexer": "ipython3",
      "version": "3.8"
    }
  },
  "nbformat": 4,
  "nbformat_minor": 4
}
